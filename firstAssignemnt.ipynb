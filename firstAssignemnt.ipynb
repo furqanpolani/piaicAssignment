{
 "cells": [
  {
   "cell_type": "markdown",
   "metadata": {},
   "source": [
    "Full Name:Abdul Rehman\n",
    "Roll No:AIC023644\n",
    "Teacher Name:Dr. Noman Islam\n",
    "Institute Name: Saylani Head office ,Bahadurabad\n",
    "Timing:9:00am -12:00pm"
   ]
  },
  {
   "cell_type": "markdown",
   "metadata": {},
   "source": [
    "## 1. Calculate Area of a Circle"
   ]
  },
  {
   "cell_type": "markdown",
   "metadata": {},
   "source": [
    "#### Write a Python program which accepts the radius of a circle from the user and compute the area.\n",
    "###### Program Console Sample Output 1:\n",
    "###### Input Radius: 0.5\n",
    "###### Area of Circle with radius 0.5 is 0.7853981634"
   ]
  },
  {
   "cell_type": "code",
   "execution_count": 24,
   "metadata": {},
   "outputs": [
    {
     "name": "stdout",
     "output_type": "stream",
     "text": [
      "Enter a radius: 0.5\n",
      "Area of Circle is  0.7853981635\n"
     ]
    }
   ],
   "source": [
    "pi=3.141592654\n",
    "r=float(input(\"Enter a radius: \"))\n",
    "Area= pi*(r**2)\n",
    "print(\"Area of Circle is \",str(Area))"
   ]
  },
  {
   "cell_type": "markdown",
   "metadata": {},
   "source": [
    "## 2. Check Number either positive, negative or zero"
   ]
  },
  {
   "cell_type": "markdown",
   "metadata": {},
   "source": [
    "#### Write a Python program to check if a number is positive, negative or zero\n",
    "###### Program Console Sample Output 1:\n",
    "###### Enter Number: -1\n",
    "##### Negative Number Entered\n",
    "###### Program Console Sample Output 2:\n",
    "##### Integer: 3\n",
    "##### Positive Number Entered\n",
    "###### Program Console Sample Output 3:\n",
    "##### Integer: 0\n",
    "###### Zero Entered"
   ]
  },
  {
   "cell_type": "code",
   "execution_count": 2,
   "metadata": {},
   "outputs": [
    {
     "name": "stdout",
     "output_type": "stream",
     "text": [
      "Enter a number: -1\n",
      "Negative Number Entered.\n"
     ]
    }
   ],
   "source": [
    "x = float(input(\"Enter a number: \"))\n",
    "if x > 0:\n",
    "    print(\"Positve Number Entered.\")\n",
    "elif x < 0:\n",
    "    print(\"Negative Number Entered.\")\n",
    "else:\n",
    "    print(\"Zero Entered.\")"
   ]
  },
  {
   "cell_type": "markdown",
   "metadata": {},
   "source": [
    "## 3. Divisibility Check of two numbers"
   ]
  },
  {
   "cell_type": "markdown",
   "metadata": {},
   "source": [
    "#### Write a Python program to check whether a number is completely divisible by another number. Accept two integer values form the user\n",
    "##### Program Console Sample Output 1:\n",
    "###### Enter numerator: 4\n",
    "###### Enter Denominator: 2\n",
    "##### Number 4 is Completely divisible by 2\n",
    "###### Program Console Sample Output 2:\n",
    "##### Enter numerator: 7\n",
    "\n",
    "##### Enter Denominator: 4\n",
    "###### Number 7 is not Completely divisible by 4"
   ]
  },
  {
   "cell_type": "code",
   "execution_count": 6,
   "metadata": {},
   "outputs": [
    {
     "name": "stdout",
     "output_type": "stream",
     "text": [
      "Enter Numerator: 4\n",
      "Enter Denominator: 2\n",
      "Number 4 is completely divisble by 2\n"
     ]
    }
   ],
   "source": [
    "x=int(input('Enter Numerator: '))\n",
    "y=int(input('Enter Denominator: '))\n",
    "if x%y ==0:\n",
    "    print('Number '+str(x)+' is completely divisble by '+ str(y))\n",
    "else:\n",
    "    print('Number '+str(x)+' is not completely divisble by '+ str(y))"
   ]
  },
  {
   "cell_type": "markdown",
   "metadata": {},
   "source": [
    "## 4. Calculate Volume of a sphere"
   ]
  },
  {
   "cell_type": "markdown",
   "metadata": {},
   "source": [
    "##### Write a Python program to get the volume of a sphere, please take the radius as input from user"
   ]
  },
  {
   "cell_type": "markdown",
   "metadata": {},
   "source": [
    "##### Program Console Output:\n",
    "##### Enter Radius of Sphere: 1\n",
    "###### Volume of the Sphere with Radius 1 is 4.18"
   ]
  },
  {
   "cell_type": "code",
   "execution_count": 20,
   "metadata": {},
   "outputs": [
    {
     "name": "stdout",
     "output_type": "stream",
     "text": [
      "Enter a radius: 1\n",
      "Volume of Sphere is  4.1866666666666665\n"
     ]
    }
   ],
   "source": [
    "pi=3.14159\n",
    "r=float(input(\"Enter a radius: \"))\n",
    "Volume=(4/3)*pi*(r**3)\n",
    "print(\"Volume of Sphere is \",str(Volume))"
   ]
  },
  {
   "cell_type": "markdown",
   "metadata": {},
   "source": [
    "## 5. Copy string n times\n",
    "#### Write a Python program to get a string which is n (non-negative integer) copies of a given string.\n",
    "##### Program Console Output:\n",
    "##### Enter String: Hi\n",
    "###### How many copies of String you need: 4\n",
    "###### 4 Copies of Hi are HiHiHiHi"
   ]
  },
  {
   "cell_type": "code",
   "execution_count": 26,
   "metadata": {},
   "outputs": [
    {
     "name": "stdout",
     "output_type": "stream",
     "text": [
      "Enter any non-negative integer number: 4\n",
      "Enter string: hi\n",
      "Numbers of copies of hi is hihihihi\n"
     ]
    }
   ],
   "source": [
    "a=int(input('Enter any non-negative integer number: '))\n",
    "b=input('Enter string: ')\n",
    "c=a*b\n",
    "print(\"Numbers of copies of \"+str(b)+' is '+c)"
   ]
  },
  {
   "cell_type": "markdown",
   "metadata": {},
   "source": [
    "## 6. Check if number is Even or Odd\n",
    "### Write a Python program to find whether a given number (accept from the user) is even or odd, print out an appropriate message to the user\n",
    "#### Program Console Output 1:\n",
    "##### Enter Number: 4\n",
    "###### 4 is Even\n",
    "#### Program Console Output 2:\n",
    "##### Enter Number: 9\n",
    "###### 9 is Odd"
   ]
  },
  {
   "cell_type": "code",
   "execution_count": 28,
   "metadata": {},
   "outputs": [
    {
     "name": "stdout",
     "output_type": "stream",
     "text": [
      "Enter a number: 9\n",
      "9 is odd.\n"
     ]
    }
   ],
   "source": [
    "x=int(input(\"Enter a number: \"))\n",
    "if x%2==0:\n",
    "    print(str(x),' is even.')\n",
    "else:\n",
    "    print(str(x), 'is odd.')"
   ]
  },
  {
   "cell_type": "markdown",
   "metadata": {},
   "source": [
    "## 7. Vowel Tester\n",
    "### Write a Python program to test whether a passed letter is a vowel or not\n",
    "#### Program Console Output 1:\n",
    "##### Enter a character: A\n",
    "###### Letter A is Vowel\n",
    "#### Program Console Output 2:\n",
    "##### Enter a character: e\n",
    "###### Letter e is Vowel\n",
    "#### Program Console Output 2:\n",
    "##### Enter a character: N\n",
    "###### Letter N is not Vowel"
   ]
  },
  {
   "cell_type": "code",
   "execution_count": 35,
   "metadata": {},
   "outputs": [
    {
     "name": "stdout",
     "output_type": "stream",
     "text": [
      "Enter any character: e\n",
      "e  is Vowel\n"
     ]
    }
   ],
   "source": [
    "x= str(input('Enter any character: '))\n",
    "if (x==\"a\" or x==\"A\" or x==\"e\" or x==\"E\" or x==\"i\" or x==\"I\" or x==\"o\" or x==\"O\" or x==\"u\" or x==\"U\"):\n",
    "    print(str(x),\" is Vowel\")\n",
    "else:\n",
    "    print(str(x),\" is Not Vowel\")"
   ]
  },
  {
   "cell_type": "markdown",
   "metadata": {},
   "source": [
    "## 8. Triangle area\n",
    "### Write a Python program that will accept the base and height of a triangle and compute the area\n",
    "###### Reference:\n",
    "https://www.mathgoodies.com/lessons/vol1/area_triangle"
   ]
  },
  {
   "cell_type": "code",
   "execution_count": 36,
   "metadata": {},
   "outputs": [
    {
     "name": "stdout",
     "output_type": "stream",
     "text": [
      "Enter Base for the triangle: 2\n",
      "Enter Height for the triangle: 2\n",
      "Area of triangle is  2.0\n"
     ]
    }
   ],
   "source": [
    "b=int(input('Enter Base for the triangle: '))\n",
    "h=int(input('Enter Height for the triangle: '))\n",
    "A=(0.5)*b*h\n",
    "print('Area of triangle is ',str(A))"
   ]
  },
  {
   "cell_type": "markdown",
   "metadata": {},
   "source": [
    "## 9. Calculate Interest\n",
    "### Write a Python program to compute the future value of a specified principal amount, rate of interest, and a number of years\n",
    "#### Program Console Sample 1:\n",
    "##### Please enter principal amount: 10000\n",
    "###### Please Enter Rate of interest in %: 0.1\n",
    "###### Enter number of years for investment: 5\n",
    "###### After 5 years your principal amount 10000 over an interest rate of 0.1 % will be 16105.1"
   ]
  },
  {
   "cell_type": "code",
   "execution_count": 2,
   "metadata": {},
   "outputs": [
    {
     "name": "stdout",
     "output_type": "stream",
     "text": [
      "Enter principal amount: 10000\n",
      "Enter interest rate: 0.1\n",
      "Number of yrs for investment: 5\n",
      "After 5  your principle amount 10000  over an interest rate of 0.1  will be 16105.1\n"
     ]
    }
   ],
   "source": [
    "pr_amt=int(input(\"Enter principal amount: \"))\n",
    "rate_int=float(input(\"Enter interest rate: \"))\n",
    "yrs= int(input(\"Number of yrs for investment: \"))\n",
    "total=pr_amt\n",
    "for i in range (yrs):\n",
    "    total=total + (total*(rate_int))\n",
    "print(\"After \" +str(yrs), \" your principle amount \" +str(pr_amt),\" over an interest rate of \" +str(rate_int), \" will be \" +str(total))"
   ]
  },
  {
   "cell_type": "markdown",
   "metadata": {},
   "source": [
    "## 10. Euclidean distance\n",
    "### write a Python program to compute the distance between the points (x1, y1) and (x2, y2).\n",
    "#### Program Console Sample 1:\n",
    "###### Enter Co-ordinate for x1: 2\n",
    "###### Enter Co-ordinate for x2: 4\n",
    "###### Enter Co-ordinate for y1: 4\n",
    "###### Enter Co-ordinate for y2: 4\n",
    "###### Distance between points (2, 4) and (4, 4) is 2"
   ]
  },
  {
   "cell_type": "markdown",
   "metadata": {},
   "source": [
    "###### Reference:\n",
    "https://en.wikipedia.org/wiki/Euclidean_distance"
   ]
  },
  {
   "cell_type": "code",
   "execution_count": 7,
   "metadata": {},
   "outputs": [
    {
     "name": "stdout",
     "output_type": "stream",
     "text": [
      "Enter co-ordinate for x1: 2\n",
      "Enter co-ordinate for x2: 4\n",
      "Enter co-ordinate for y1: 4\n",
      "Enter co-ordinate for y2: 4\n",
      "Distance between points (2 ,4 ) and (4 ,4 ) is 2.0\n"
     ]
    }
   ],
   "source": [
    "a=int(input(\"Enter co-ordinate for x1: \"))\n",
    "b=int(input(\"Enter co-ordinate for x2: \"))\n",
    "c=int(input(\"Enter co-ordinate for y1: \"))\n",
    "d=int(input(\"Enter co-ordinate for y2: \"))\n",
    "dis=float((((b-a)**2)+((d-c)**2))**0.5)\n",
    "print(\"Distance between points (\" +str(a),\",\"+str(b),\") and (\" +str(c),\",\" +str(d),\") is\" ,dis)"
   ]
  },
  {
   "cell_type": "markdown",
   "metadata": {},
   "source": [
    "## 11. Feet to Centimeter Converter\n",
    "### Write a Python program to convert height in feet to centimetres.\n",
    "##### Program Console Sample 1:\n",
    "###### Enter Height in Feet: 5\n",
    "###### There are 152.4 Cm in 5 ft\n",
    "###### Reference:\n",
    "https://www.rapidtables.com/convert/length/feet-to-cm.html"
   ]
  },
  {
   "cell_type": "code",
   "execution_count": 9,
   "metadata": {},
   "outputs": [
    {
     "name": "stdout",
     "output_type": "stream",
     "text": [
      "Enter height: 5\n",
      "There are  152.4 cm in  5 ft\n"
     ]
    }
   ],
   "source": [
    "x=int(input(\"Enter height: \"))\n",
    "y=30.48*x\n",
    "print('There are ',str(y),'cm in ',str(x),'ft' )"
   ]
  },
  {
   "cell_type": "markdown",
   "metadata": {},
   "source": [
    "## 12. BMI Calculator\n",
    "### Write a Python program to calculate body mass index\n",
    "##### Program Console Sample 1:\n",
    "###### Enter Height in Cm: 180\n",
    "###### Enter Weight in Kg: 75\n",
    "###### Your BMI is 23.15"
   ]
  },
  {
   "cell_type": "code",
   "execution_count": 10,
   "metadata": {},
   "outputs": [
    {
     "name": "stdout",
     "output_type": "stream",
     "text": [
      "Enter Hieght in cm : 180\n",
      "Enter Weight in kg: 75\n",
      "Your BMI is  23.148148148148145\n"
     ]
    }
   ],
   "source": [
    "h=int(input(\"Enter Hieght in cm : \"))\n",
    "w=int(input(\"Enter Weight in kg: \"))\n",
    "bmi=w/((h/100)**2)\n",
    "print(\"Your BMI is \",bmi)"
   ]
  },
  {
   "cell_type": "markdown",
   "metadata": {},
   "source": [
    "## 13. Sum of n Positive Integers\n",
    "### Write a python program to sum of the first n positive integers\n",
    "#### Program Console Sample 1:\n",
    "###### Enter value of n: 5\n",
    "###### Sum of n Positive integers till 5 is 15"
   ]
  },
  {
   "cell_type": "code",
   "execution_count": 14,
   "metadata": {},
   "outputs": [
    {
     "name": "stdout",
     "output_type": "stream",
     "text": [
      "Enter value of n: 5\n",
      "Sum of n positive intergers till 5 is 15\n"
     ]
    }
   ],
   "source": [
    "x=int(input(\"Enter value of n: \"))\n",
    "z=0\n",
    "for i in range(1,x+1):\n",
    "    z=z+i\n",
    "\n",
    "print(\"Sum of n positive intergers till \" +str(x),\"is \" +str(z))"
   ]
  },
  {
   "cell_type": "markdown",
   "metadata": {},
   "source": [
    "## 14. Digits Sum of a Number\n",
    "### Write a Python program to calculate the sum of the digits in an integer\n",
    "#### Program Console Sample 1:\n",
    "##### Enter a number: 15\n",
    "###### Sum of 1 + 5 is 6\n",
    "#### Program Console Sample 2:\n",
    "##### Enter a number: 1234\n",
    "###### Sum of 1 + 2 + 3 + 4 is 10"
   ]
  },
  {
   "cell_type": "code",
   "execution_count": 20,
   "metadata": {},
   "outputs": [
    {
     "name": "stdout",
     "output_type": "stream",
     "text": [
      "Enter a number: 1234\n",
      "sum of 1234 is 10\n"
     ]
    }
   ],
   "source": [
    "a=(input(\"Enter a number: \"))\n",
    "sum1=0;\n",
    "for i in a:\n",
    "    i=int(i)\n",
    "    sum1=sum1+i\n",
    "print (\"sum of \" +str(a), \"is\" , sum1 )"
   ]
  }
 ],
 "metadata": {
  "kernelspec": {
   "display_name": "Python 3",
   "language": "python",
   "name": "python3"
  },
  "language_info": {
   "codemirror_mode": {
    "name": "ipython",
    "version": 3
   },
   "file_extension": ".py",
   "mimetype": "text/x-python",
   "name": "python",
   "nbconvert_exporter": "python",
   "pygments_lexer": "ipython3",
   "version": "3.7.3"
  }
 },
 "nbformat": 4,
 "nbformat_minor": 2
}
